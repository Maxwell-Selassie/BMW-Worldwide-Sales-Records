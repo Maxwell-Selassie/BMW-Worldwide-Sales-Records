{
 "cells": [
  {
   "cell_type": "code",
   "execution_count": 1,
   "id": "407511c0",
   "metadata": {},
   "outputs": [],
   "source": [
    "import os\n",
    "import pandas as pd\n",
    "import numpy as np\n",
    "import matplotlib.pyplot as plt\n",
    "import seaborn as sns\n",
    "\n",
    "# set style for better plots\n",
    "plt.style.use('seaborn-v0_8')\n",
    "sns.set_palette('husl')"
   ]
  },
  {
   "cell_type": "markdown",
   "id": "b3f89fbc",
   "metadata": {},
   "source": [
    "# ***Load dataset and perform basic exploratory data analysis***"
   ]
  },
  {
   "cell_type": "code",
   "execution_count": 3,
   "id": "3f45a756",
   "metadata": {},
   "outputs": [],
   "source": [
    "# load dataset\n",
    "if os.path.exists('../data/BMW sales data.csv'):\n",
    "    df = pd.read_csv('../data/BMW sales data.csv')\n",
    "else:\n",
    "    raise FileNotFoundError('File not found! Please check file path and try again!')"
   ]
  },
  {
   "cell_type": "code",
   "execution_count": 20,
   "id": "d592548c",
   "metadata": {},
   "outputs": [
    {
     "data": {
      "application/vnd.microsoft.datawrangler.viewer.v0+json": {
       "columns": [
        {
         "name": "index",
         "rawType": "int64",
         "type": "integer"
        },
        {
         "name": "Model",
         "rawType": "object",
         "type": "string"
        },
        {
         "name": "Year",
         "rawType": "int64",
         "type": "integer"
        },
        {
         "name": "Region",
         "rawType": "object",
         "type": "string"
        },
        {
         "name": "Color",
         "rawType": "object",
         "type": "string"
        },
        {
         "name": "Fuel_Type",
         "rawType": "object",
         "type": "string"
        },
        {
         "name": "Transmission",
         "rawType": "object",
         "type": "string"
        },
        {
         "name": "Engine_Size_L",
         "rawType": "float64",
         "type": "float"
        },
        {
         "name": "Mileage_KM",
         "rawType": "int64",
         "type": "integer"
        },
        {
         "name": "Price_USD",
         "rawType": "int64",
         "type": "integer"
        },
        {
         "name": "Sales_Volume",
         "rawType": "int64",
         "type": "integer"
        },
        {
         "name": "Sales_Classification",
         "rawType": "object",
         "type": "string"
        }
       ],
       "ref": "85cf2c39-5ef1-47c7-b21e-aafd888a3087",
       "rows": [
        [
         "0",
         "5 Series",
         "2016",
         "Asia",
         "Red",
         "Petrol",
         "Manual",
         "3.5",
         "151748",
         "98740",
         "8300",
         "High"
        ],
        [
         "1",
         "i8",
         "2013",
         "North America",
         "Red",
         "Hybrid",
         "Automatic",
         "1.6",
         "121671",
         "79219",
         "3428",
         "Low"
        ],
        [
         "2",
         "5 Series",
         "2022",
         "North America",
         "Blue",
         "Petrol",
         "Automatic",
         "4.5",
         "10991",
         "113265",
         "6994",
         "Low"
        ],
        [
         "3",
         "X3",
         "2024",
         "Middle East",
         "Blue",
         "Petrol",
         "Automatic",
         "1.7",
         "27255",
         "60971",
         "4047",
         "Low"
        ],
        [
         "4",
         "7 Series",
         "2020",
         "South America",
         "Black",
         "Diesel",
         "Manual",
         "2.1",
         "122131",
         "49898",
         "3080",
         "Low"
        ]
       ],
       "shape": {
        "columns": 11,
        "rows": 5
       }
      },
      "text/html": [
       "<div>\n",
       "<style scoped>\n",
       "    .dataframe tbody tr th:only-of-type {\n",
       "        vertical-align: middle;\n",
       "    }\n",
       "\n",
       "    .dataframe tbody tr th {\n",
       "        vertical-align: top;\n",
       "    }\n",
       "\n",
       "    .dataframe thead th {\n",
       "        text-align: right;\n",
       "    }\n",
       "</style>\n",
       "<table border=\"1\" class=\"dataframe\">\n",
       "  <thead>\n",
       "    <tr style=\"text-align: right;\">\n",
       "      <th></th>\n",
       "      <th>Model</th>\n",
       "      <th>Year</th>\n",
       "      <th>Region</th>\n",
       "      <th>Color</th>\n",
       "      <th>Fuel_Type</th>\n",
       "      <th>Transmission</th>\n",
       "      <th>Engine_Size_L</th>\n",
       "      <th>Mileage_KM</th>\n",
       "      <th>Price_USD</th>\n",
       "      <th>Sales_Volume</th>\n",
       "      <th>Sales_Classification</th>\n",
       "    </tr>\n",
       "  </thead>\n",
       "  <tbody>\n",
       "    <tr>\n",
       "      <th>0</th>\n",
       "      <td>5 Series</td>\n",
       "      <td>2016</td>\n",
       "      <td>Asia</td>\n",
       "      <td>Red</td>\n",
       "      <td>Petrol</td>\n",
       "      <td>Manual</td>\n",
       "      <td>3.5</td>\n",
       "      <td>151748</td>\n",
       "      <td>98740</td>\n",
       "      <td>8300</td>\n",
       "      <td>High</td>\n",
       "    </tr>\n",
       "    <tr>\n",
       "      <th>1</th>\n",
       "      <td>i8</td>\n",
       "      <td>2013</td>\n",
       "      <td>North America</td>\n",
       "      <td>Red</td>\n",
       "      <td>Hybrid</td>\n",
       "      <td>Automatic</td>\n",
       "      <td>1.6</td>\n",
       "      <td>121671</td>\n",
       "      <td>79219</td>\n",
       "      <td>3428</td>\n",
       "      <td>Low</td>\n",
       "    </tr>\n",
       "    <tr>\n",
       "      <th>2</th>\n",
       "      <td>5 Series</td>\n",
       "      <td>2022</td>\n",
       "      <td>North America</td>\n",
       "      <td>Blue</td>\n",
       "      <td>Petrol</td>\n",
       "      <td>Automatic</td>\n",
       "      <td>4.5</td>\n",
       "      <td>10991</td>\n",
       "      <td>113265</td>\n",
       "      <td>6994</td>\n",
       "      <td>Low</td>\n",
       "    </tr>\n",
       "    <tr>\n",
       "      <th>3</th>\n",
       "      <td>X3</td>\n",
       "      <td>2024</td>\n",
       "      <td>Middle East</td>\n",
       "      <td>Blue</td>\n",
       "      <td>Petrol</td>\n",
       "      <td>Automatic</td>\n",
       "      <td>1.7</td>\n",
       "      <td>27255</td>\n",
       "      <td>60971</td>\n",
       "      <td>4047</td>\n",
       "      <td>Low</td>\n",
       "    </tr>\n",
       "    <tr>\n",
       "      <th>4</th>\n",
       "      <td>7 Series</td>\n",
       "      <td>2020</td>\n",
       "      <td>South America</td>\n",
       "      <td>Black</td>\n",
       "      <td>Diesel</td>\n",
       "      <td>Manual</td>\n",
       "      <td>2.1</td>\n",
       "      <td>122131</td>\n",
       "      <td>49898</td>\n",
       "      <td>3080</td>\n",
       "      <td>Low</td>\n",
       "    </tr>\n",
       "  </tbody>\n",
       "</table>\n",
       "</div>"
      ],
      "text/plain": [
       "      Model  Year         Region  Color Fuel_Type Transmission  Engine_Size_L  \\\n",
       "0  5 Series  2016           Asia    Red    Petrol       Manual            3.5   \n",
       "1        i8  2013  North America    Red    Hybrid    Automatic            1.6   \n",
       "2  5 Series  2022  North America   Blue    Petrol    Automatic            4.5   \n",
       "3        X3  2024    Middle East   Blue    Petrol    Automatic            1.7   \n",
       "4  7 Series  2020  South America  Black    Diesel       Manual            2.1   \n",
       "\n",
       "   Mileage_KM  Price_USD  Sales_Volume Sales_Classification  \n",
       "0      151748      98740          8300                 High  \n",
       "1      121671      79219          3428                  Low  \n",
       "2       10991     113265          6994                  Low  \n",
       "3       27255      60971          4047                  Low  \n",
       "4      122131      49898          3080                  Low  "
      ]
     },
     "execution_count": 20,
     "metadata": {},
     "output_type": "execute_result"
    }
   ],
   "source": [
    "df.head()"
   ]
  },
  {
   "cell_type": "code",
   "execution_count": 21,
   "id": "3e6787e3",
   "metadata": {},
   "outputs": [
    {
     "data": {
      "application/vnd.microsoft.datawrangler.viewer.v0+json": {
       "columns": [
        {
         "name": "index",
         "rawType": "int64",
         "type": "integer"
        },
        {
         "name": "Model",
         "rawType": "object",
         "type": "string"
        },
        {
         "name": "Year",
         "rawType": "int64",
         "type": "integer"
        },
        {
         "name": "Region",
         "rawType": "object",
         "type": "string"
        },
        {
         "name": "Color",
         "rawType": "object",
         "type": "string"
        },
        {
         "name": "Fuel_Type",
         "rawType": "object",
         "type": "string"
        },
        {
         "name": "Transmission",
         "rawType": "object",
         "type": "string"
        },
        {
         "name": "Engine_Size_L",
         "rawType": "float64",
         "type": "float"
        },
        {
         "name": "Mileage_KM",
         "rawType": "int64",
         "type": "integer"
        },
        {
         "name": "Price_USD",
         "rawType": "int64",
         "type": "integer"
        },
        {
         "name": "Sales_Volume",
         "rawType": "int64",
         "type": "integer"
        },
        {
         "name": "Sales_Classification",
         "rawType": "object",
         "type": "string"
        }
       ],
       "ref": "c525e006-6f04-4ce8-94ad-7a04d223d79b",
       "rows": [
        [
         "49995",
         "i3",
         "2014",
         "Asia",
         "Red",
         "Hybrid",
         "Manual",
         "4.6",
         "151030",
         "42932",
         "8182",
         "High"
        ],
        [
         "49996",
         "i3",
         "2023",
         "Middle East",
         "Silver",
         "Electric",
         "Manual",
         "4.2",
         "147396",
         "48714",
         "9816",
         "High"
        ],
        [
         "49997",
         "5 Series",
         "2010",
         "Middle East",
         "Red",
         "Petrol",
         "Automatic",
         "4.5",
         "174939",
         "46126",
         "8280",
         "High"
        ],
        [
         "49998",
         "i3",
         "2020",
         "Asia",
         "White",
         "Electric",
         "Automatic",
         "3.8",
         "3379",
         "58566",
         "9486",
         "High"
        ],
        [
         "49999",
         "X1",
         "2020",
         "North America",
         "Blue",
         "Diesel",
         "Manual",
         "3.3",
         "171003",
         "77492",
         "1764",
         "Low"
        ]
       ],
       "shape": {
        "columns": 11,
        "rows": 5
       }
      },
      "text/html": [
       "<div>\n",
       "<style scoped>\n",
       "    .dataframe tbody tr th:only-of-type {\n",
       "        vertical-align: middle;\n",
       "    }\n",
       "\n",
       "    .dataframe tbody tr th {\n",
       "        vertical-align: top;\n",
       "    }\n",
       "\n",
       "    .dataframe thead th {\n",
       "        text-align: right;\n",
       "    }\n",
       "</style>\n",
       "<table border=\"1\" class=\"dataframe\">\n",
       "  <thead>\n",
       "    <tr style=\"text-align: right;\">\n",
       "      <th></th>\n",
       "      <th>Model</th>\n",
       "      <th>Year</th>\n",
       "      <th>Region</th>\n",
       "      <th>Color</th>\n",
       "      <th>Fuel_Type</th>\n",
       "      <th>Transmission</th>\n",
       "      <th>Engine_Size_L</th>\n",
       "      <th>Mileage_KM</th>\n",
       "      <th>Price_USD</th>\n",
       "      <th>Sales_Volume</th>\n",
       "      <th>Sales_Classification</th>\n",
       "    </tr>\n",
       "  </thead>\n",
       "  <tbody>\n",
       "    <tr>\n",
       "      <th>49995</th>\n",
       "      <td>i3</td>\n",
       "      <td>2014</td>\n",
       "      <td>Asia</td>\n",
       "      <td>Red</td>\n",
       "      <td>Hybrid</td>\n",
       "      <td>Manual</td>\n",
       "      <td>4.6</td>\n",
       "      <td>151030</td>\n",
       "      <td>42932</td>\n",
       "      <td>8182</td>\n",
       "      <td>High</td>\n",
       "    </tr>\n",
       "    <tr>\n",
       "      <th>49996</th>\n",
       "      <td>i3</td>\n",
       "      <td>2023</td>\n",
       "      <td>Middle East</td>\n",
       "      <td>Silver</td>\n",
       "      <td>Electric</td>\n",
       "      <td>Manual</td>\n",
       "      <td>4.2</td>\n",
       "      <td>147396</td>\n",
       "      <td>48714</td>\n",
       "      <td>9816</td>\n",
       "      <td>High</td>\n",
       "    </tr>\n",
       "    <tr>\n",
       "      <th>49997</th>\n",
       "      <td>5 Series</td>\n",
       "      <td>2010</td>\n",
       "      <td>Middle East</td>\n",
       "      <td>Red</td>\n",
       "      <td>Petrol</td>\n",
       "      <td>Automatic</td>\n",
       "      <td>4.5</td>\n",
       "      <td>174939</td>\n",
       "      <td>46126</td>\n",
       "      <td>8280</td>\n",
       "      <td>High</td>\n",
       "    </tr>\n",
       "    <tr>\n",
       "      <th>49998</th>\n",
       "      <td>i3</td>\n",
       "      <td>2020</td>\n",
       "      <td>Asia</td>\n",
       "      <td>White</td>\n",
       "      <td>Electric</td>\n",
       "      <td>Automatic</td>\n",
       "      <td>3.8</td>\n",
       "      <td>3379</td>\n",
       "      <td>58566</td>\n",
       "      <td>9486</td>\n",
       "      <td>High</td>\n",
       "    </tr>\n",
       "    <tr>\n",
       "      <th>49999</th>\n",
       "      <td>X1</td>\n",
       "      <td>2020</td>\n",
       "      <td>North America</td>\n",
       "      <td>Blue</td>\n",
       "      <td>Diesel</td>\n",
       "      <td>Manual</td>\n",
       "      <td>3.3</td>\n",
       "      <td>171003</td>\n",
       "      <td>77492</td>\n",
       "      <td>1764</td>\n",
       "      <td>Low</td>\n",
       "    </tr>\n",
       "  </tbody>\n",
       "</table>\n",
       "</div>"
      ],
      "text/plain": [
       "          Model  Year         Region   Color Fuel_Type Transmission  \\\n",
       "49995        i3  2014           Asia     Red    Hybrid       Manual   \n",
       "49996        i3  2023    Middle East  Silver  Electric       Manual   \n",
       "49997  5 Series  2010    Middle East     Red    Petrol    Automatic   \n",
       "49998        i3  2020           Asia   White  Electric    Automatic   \n",
       "49999        X1  2020  North America    Blue    Diesel       Manual   \n",
       "\n",
       "       Engine_Size_L  Mileage_KM  Price_USD  Sales_Volume Sales_Classification  \n",
       "49995            4.6      151030      42932          8182                 High  \n",
       "49996            4.2      147396      48714          9816                 High  \n",
       "49997            4.5      174939      46126          8280                 High  \n",
       "49998            3.8        3379      58566          9486                 High  \n",
       "49999            3.3      171003      77492          1764                  Low  "
      ]
     },
     "execution_count": 21,
     "metadata": {},
     "output_type": "execute_result"
    }
   ],
   "source": [
    "df.tail()"
   ]
  },
  {
   "cell_type": "code",
   "execution_count": 4,
   "id": "a67fc40a",
   "metadata": {},
   "outputs": [
    {
     "data": {
      "text/plain": [
       "(50000, 11)"
      ]
     },
     "execution_count": 4,
     "metadata": {},
     "output_type": "execute_result"
    }
   ],
   "source": [
    "# overview of the dataset\n",
    "df.shape # shape of dataset"
   ]
  },
  {
   "cell_type": "code",
   "execution_count": 5,
   "id": "47fc4cde",
   "metadata": {},
   "outputs": [
    {
     "name": "stdout",
     "output_type": "stream",
     "text": [
      "<class 'pandas.core.frame.DataFrame'>\n",
      "RangeIndex: 50000 entries, 0 to 49999\n",
      "Data columns (total 11 columns):\n",
      " #   Column                Non-Null Count  Dtype  \n",
      "---  ------                --------------  -----  \n",
      " 0   Model                 50000 non-null  object \n",
      " 1   Year                  50000 non-null  int64  \n",
      " 2   Region                50000 non-null  object \n",
      " 3   Color                 50000 non-null  object \n",
      " 4   Fuel_Type             50000 non-null  object \n",
      " 5   Transmission          50000 non-null  object \n",
      " 6   Engine_Size_L         50000 non-null  float64\n",
      " 7   Mileage_KM            50000 non-null  int64  \n",
      " 8   Price_USD             50000 non-null  int64  \n",
      " 9   Sales_Volume          50000 non-null  int64  \n",
      " 10  Sales_Classification  50000 non-null  object \n",
      "dtypes: float64(1), int64(4), object(6)\n",
      "memory usage: 4.2+ MB\n"
     ]
    }
   ],
   "source": [
    "df.info() # returns non-null counts and data types"
   ]
  },
  {
   "cell_type": "code",
   "execution_count": 6,
   "id": "95c970a2",
   "metadata": {},
   "outputs": [
    {
     "data": {
      "application/vnd.microsoft.datawrangler.viewer.v0+json": {
       "columns": [
        {
         "name": "index",
         "rawType": "object",
         "type": "string"
        },
        {
         "name": "count",
         "rawType": "object",
         "type": "unknown"
        },
        {
         "name": "unique",
         "rawType": "object",
         "type": "unknown"
        },
        {
         "name": "top",
         "rawType": "object",
         "type": "unknown"
        },
        {
         "name": "freq",
         "rawType": "object",
         "type": "unknown"
        },
        {
         "name": "mean",
         "rawType": "object",
         "type": "unknown"
        },
        {
         "name": "std",
         "rawType": "object",
         "type": "unknown"
        },
        {
         "name": "min",
         "rawType": "object",
         "type": "unknown"
        },
        {
         "name": "25%",
         "rawType": "object",
         "type": "unknown"
        },
        {
         "name": "50%",
         "rawType": "object",
         "type": "unknown"
        },
        {
         "name": "75%",
         "rawType": "object",
         "type": "unknown"
        },
        {
         "name": "max",
         "rawType": "object",
         "type": "unknown"
        }
       ],
       "ref": "5a7da3b9-77cd-402f-9587-c7ab386c038d",
       "rows": [
        [
         "Model",
         "50000",
         "11",
         "7 Series",
         "4666",
         null,
         null,
         null,
         null,
         null,
         null,
         null
        ],
        [
         "Year",
         "50000.0",
         null,
         null,
         null,
         "2017.02",
         "4.32",
         "2010.0",
         "2013.0",
         "2017.0",
         "2021.0",
         "2024.0"
        ],
        [
         "Region",
         "50000",
         "6",
         "Asia",
         "8454",
         null,
         null,
         null,
         null,
         null,
         null,
         null
        ],
        [
         "Color",
         "50000",
         "6",
         "Red",
         "8463",
         null,
         null,
         null,
         null,
         null,
         null,
         null
        ],
        [
         "Fuel_Type",
         "50000",
         "4",
         "Hybrid",
         "12716",
         null,
         null,
         null,
         null,
         null,
         null,
         null
        ],
        [
         "Transmission",
         "50000",
         "2",
         "Manual",
         "25154",
         null,
         null,
         null,
         null,
         null,
         null,
         null
        ],
        [
         "Engine_Size_L",
         "50000.0",
         null,
         null,
         null,
         "3.25",
         "1.01",
         "1.5",
         "2.4",
         "3.2",
         "4.1",
         "5.0"
        ],
        [
         "Mileage_KM",
         "50000.0",
         null,
         null,
         null,
         "100307.2",
         "57941.51",
         "3.0",
         "50178.0",
         "100388.5",
         "150630.25",
         "199996.0"
        ],
        [
         "Price_USD",
         "50000.0",
         null,
         null,
         null,
         "75034.6",
         "25998.25",
         "30000.0",
         "52434.75",
         "75011.5",
         "97628.25",
         "119998.0"
        ],
        [
         "Sales_Volume",
         "50000.0",
         null,
         null,
         null,
         "5067.51",
         "2856.77",
         "100.0",
         "2588.0",
         "5087.0",
         "7537.25",
         "9999.0"
        ],
        [
         "Sales_Classification",
         "50000",
         "2",
         "Low",
         "34754",
         null,
         null,
         null,
         null,
         null,
         null,
         null
        ]
       ],
       "shape": {
        "columns": 11,
        "rows": 11
       }
      },
      "text/html": [
       "<div>\n",
       "<style scoped>\n",
       "    .dataframe tbody tr th:only-of-type {\n",
       "        vertical-align: middle;\n",
       "    }\n",
       "\n",
       "    .dataframe tbody tr th {\n",
       "        vertical-align: top;\n",
       "    }\n",
       "\n",
       "    .dataframe thead th {\n",
       "        text-align: right;\n",
       "    }\n",
       "</style>\n",
       "<table border=\"1\" class=\"dataframe\">\n",
       "  <thead>\n",
       "    <tr style=\"text-align: right;\">\n",
       "      <th></th>\n",
       "      <th>count</th>\n",
       "      <th>unique</th>\n",
       "      <th>top</th>\n",
       "      <th>freq</th>\n",
       "      <th>mean</th>\n",
       "      <th>std</th>\n",
       "      <th>min</th>\n",
       "      <th>25%</th>\n",
       "      <th>50%</th>\n",
       "      <th>75%</th>\n",
       "      <th>max</th>\n",
       "    </tr>\n",
       "  </thead>\n",
       "  <tbody>\n",
       "    <tr>\n",
       "      <th>Model</th>\n",
       "      <td>50000</td>\n",
       "      <td>11</td>\n",
       "      <td>7 Series</td>\n",
       "      <td>4666</td>\n",
       "      <td>NaN</td>\n",
       "      <td>NaN</td>\n",
       "      <td>NaN</td>\n",
       "      <td>NaN</td>\n",
       "      <td>NaN</td>\n",
       "      <td>NaN</td>\n",
       "      <td>NaN</td>\n",
       "    </tr>\n",
       "    <tr>\n",
       "      <th>Year</th>\n",
       "      <td>50000.0</td>\n",
       "      <td>NaN</td>\n",
       "      <td>NaN</td>\n",
       "      <td>NaN</td>\n",
       "      <td>2017.02</td>\n",
       "      <td>4.32</td>\n",
       "      <td>2010.0</td>\n",
       "      <td>2013.0</td>\n",
       "      <td>2017.0</td>\n",
       "      <td>2021.0</td>\n",
       "      <td>2024.0</td>\n",
       "    </tr>\n",
       "    <tr>\n",
       "      <th>Region</th>\n",
       "      <td>50000</td>\n",
       "      <td>6</td>\n",
       "      <td>Asia</td>\n",
       "      <td>8454</td>\n",
       "      <td>NaN</td>\n",
       "      <td>NaN</td>\n",
       "      <td>NaN</td>\n",
       "      <td>NaN</td>\n",
       "      <td>NaN</td>\n",
       "      <td>NaN</td>\n",
       "      <td>NaN</td>\n",
       "    </tr>\n",
       "    <tr>\n",
       "      <th>Color</th>\n",
       "      <td>50000</td>\n",
       "      <td>6</td>\n",
       "      <td>Red</td>\n",
       "      <td>8463</td>\n",
       "      <td>NaN</td>\n",
       "      <td>NaN</td>\n",
       "      <td>NaN</td>\n",
       "      <td>NaN</td>\n",
       "      <td>NaN</td>\n",
       "      <td>NaN</td>\n",
       "      <td>NaN</td>\n",
       "    </tr>\n",
       "    <tr>\n",
       "      <th>Fuel_Type</th>\n",
       "      <td>50000</td>\n",
       "      <td>4</td>\n",
       "      <td>Hybrid</td>\n",
       "      <td>12716</td>\n",
       "      <td>NaN</td>\n",
       "      <td>NaN</td>\n",
       "      <td>NaN</td>\n",
       "      <td>NaN</td>\n",
       "      <td>NaN</td>\n",
       "      <td>NaN</td>\n",
       "      <td>NaN</td>\n",
       "    </tr>\n",
       "    <tr>\n",
       "      <th>Transmission</th>\n",
       "      <td>50000</td>\n",
       "      <td>2</td>\n",
       "      <td>Manual</td>\n",
       "      <td>25154</td>\n",
       "      <td>NaN</td>\n",
       "      <td>NaN</td>\n",
       "      <td>NaN</td>\n",
       "      <td>NaN</td>\n",
       "      <td>NaN</td>\n",
       "      <td>NaN</td>\n",
       "      <td>NaN</td>\n",
       "    </tr>\n",
       "    <tr>\n",
       "      <th>Engine_Size_L</th>\n",
       "      <td>50000.0</td>\n",
       "      <td>NaN</td>\n",
       "      <td>NaN</td>\n",
       "      <td>NaN</td>\n",
       "      <td>3.25</td>\n",
       "      <td>1.01</td>\n",
       "      <td>1.5</td>\n",
       "      <td>2.4</td>\n",
       "      <td>3.2</td>\n",
       "      <td>4.1</td>\n",
       "      <td>5.0</td>\n",
       "    </tr>\n",
       "    <tr>\n",
       "      <th>Mileage_KM</th>\n",
       "      <td>50000.0</td>\n",
       "      <td>NaN</td>\n",
       "      <td>NaN</td>\n",
       "      <td>NaN</td>\n",
       "      <td>100307.2</td>\n",
       "      <td>57941.51</td>\n",
       "      <td>3.0</td>\n",
       "      <td>50178.0</td>\n",
       "      <td>100388.5</td>\n",
       "      <td>150630.25</td>\n",
       "      <td>199996.0</td>\n",
       "    </tr>\n",
       "    <tr>\n",
       "      <th>Price_USD</th>\n",
       "      <td>50000.0</td>\n",
       "      <td>NaN</td>\n",
       "      <td>NaN</td>\n",
       "      <td>NaN</td>\n",
       "      <td>75034.6</td>\n",
       "      <td>25998.25</td>\n",
       "      <td>30000.0</td>\n",
       "      <td>52434.75</td>\n",
       "      <td>75011.5</td>\n",
       "      <td>97628.25</td>\n",
       "      <td>119998.0</td>\n",
       "    </tr>\n",
       "    <tr>\n",
       "      <th>Sales_Volume</th>\n",
       "      <td>50000.0</td>\n",
       "      <td>NaN</td>\n",
       "      <td>NaN</td>\n",
       "      <td>NaN</td>\n",
       "      <td>5067.51</td>\n",
       "      <td>2856.77</td>\n",
       "      <td>100.0</td>\n",
       "      <td>2588.0</td>\n",
       "      <td>5087.0</td>\n",
       "      <td>7537.25</td>\n",
       "      <td>9999.0</td>\n",
       "    </tr>\n",
       "    <tr>\n",
       "      <th>Sales_Classification</th>\n",
       "      <td>50000</td>\n",
       "      <td>2</td>\n",
       "      <td>Low</td>\n",
       "      <td>34754</td>\n",
       "      <td>NaN</td>\n",
       "      <td>NaN</td>\n",
       "      <td>NaN</td>\n",
       "      <td>NaN</td>\n",
       "      <td>NaN</td>\n",
       "      <td>NaN</td>\n",
       "      <td>NaN</td>\n",
       "    </tr>\n",
       "  </tbody>\n",
       "</table>\n",
       "</div>"
      ],
      "text/plain": [
       "                        count unique       top   freq      mean       std  \\\n",
       "Model                   50000     11  7 Series   4666       NaN       NaN   \n",
       "Year                  50000.0    NaN       NaN    NaN   2017.02      4.32   \n",
       "Region                  50000      6      Asia   8454       NaN       NaN   \n",
       "Color                   50000      6       Red   8463       NaN       NaN   \n",
       "Fuel_Type               50000      4    Hybrid  12716       NaN       NaN   \n",
       "Transmission            50000      2    Manual  25154       NaN       NaN   \n",
       "Engine_Size_L         50000.0    NaN       NaN    NaN      3.25      1.01   \n",
       "Mileage_KM            50000.0    NaN       NaN    NaN  100307.2  57941.51   \n",
       "Price_USD             50000.0    NaN       NaN    NaN   75034.6  25998.25   \n",
       "Sales_Volume          50000.0    NaN       NaN    NaN   5067.51   2856.77   \n",
       "Sales_Classification    50000      2       Low  34754       NaN       NaN   \n",
       "\n",
       "                          min       25%       50%        75%       max  \n",
       "Model                     NaN       NaN       NaN        NaN       NaN  \n",
       "Year                   2010.0    2013.0    2017.0     2021.0    2024.0  \n",
       "Region                    NaN       NaN       NaN        NaN       NaN  \n",
       "Color                     NaN       NaN       NaN        NaN       NaN  \n",
       "Fuel_Type                 NaN       NaN       NaN        NaN       NaN  \n",
       "Transmission              NaN       NaN       NaN        NaN       NaN  \n",
       "Engine_Size_L             1.5       2.4       3.2        4.1       5.0  \n",
       "Mileage_KM                3.0   50178.0  100388.5  150630.25  199996.0  \n",
       "Price_USD             30000.0  52434.75   75011.5   97628.25  119998.0  \n",
       "Sales_Volume            100.0    2588.0    5087.0    7537.25    9999.0  \n",
       "Sales_Classification      NaN       NaN       NaN        NaN       NaN  "
      ]
     },
     "execution_count": 6,
     "metadata": {},
     "output_type": "execute_result"
    }
   ],
   "source": [
    "# a short descriptive summary of the dataset\n",
    "df.describe(include='all').round(2).T"
   ]
  },
  {
   "cell_type": "markdown",
   "id": "ccac7a9c",
   "metadata": {},
   "source": [
    "# ***Comprehensive exploratory data analysis***"
   ]
  },
  {
   "cell_type": "code",
   "execution_count": null,
   "id": "9667bf5e",
   "metadata": {},
   "outputs": [
    {
     "name": "stdout",
     "output_type": "stream",
     "text": [
      "Empty DataFrame\n",
      "Columns: [missing values, missing percentage]\n",
      "Index: []\n"
     ]
    }
   ],
   "source": [
    "missing_values = df.isnull().sum()\n",
    "missing_pct = (missing_values / len(df)) * 100\n",
    "missing_data = pd.DataFrame({\n",
    "    'missing values' : missing_values,\n",
    "    'missing percentage' : missing_pct.round()\n",
    "})\n",
    "print(missing_data[missing_data['missing values'] > 0])\n",
    "\n",
    "# no missing data"
   ]
  },
  {
   "cell_type": "code",
   "execution_count": null,
   "id": "4ba3e352",
   "metadata": {},
   "outputs": [
    {
     "data": {
      "application/vnd.microsoft.datawrangler.viewer.v0+json": {
       "columns": [
        {
         "name": "index",
         "rawType": "int64",
         "type": "integer"
        },
        {
         "name": "Model",
         "rawType": "object",
         "type": "string"
        },
        {
         "name": "Year",
         "rawType": "int64",
         "type": "integer"
        },
        {
         "name": "Region",
         "rawType": "object",
         "type": "string"
        },
        {
         "name": "Color",
         "rawType": "object",
         "type": "string"
        },
        {
         "name": "Fuel_Type",
         "rawType": "object",
         "type": "string"
        },
        {
         "name": "Transmission",
         "rawType": "object",
         "type": "string"
        },
        {
         "name": "Engine_Size_L",
         "rawType": "float64",
         "type": "float"
        },
        {
         "name": "Mileage_KM",
         "rawType": "int64",
         "type": "integer"
        },
        {
         "name": "Price_USD",
         "rawType": "int64",
         "type": "integer"
        },
        {
         "name": "Sales_Volume",
         "rawType": "int64",
         "type": "integer"
        },
        {
         "name": "Sales_Classification",
         "rawType": "object",
         "type": "string"
        }
       ],
       "ref": "dd16ede3-1d33-40eb-94fa-99bff4203157",
       "rows": [],
       "shape": {
        "columns": 11,
        "rows": 0
       }
      },
      "text/html": [
       "<div>\n",
       "<style scoped>\n",
       "    .dataframe tbody tr th:only-of-type {\n",
       "        vertical-align: middle;\n",
       "    }\n",
       "\n",
       "    .dataframe tbody tr th {\n",
       "        vertical-align: top;\n",
       "    }\n",
       "\n",
       "    .dataframe thead th {\n",
       "        text-align: right;\n",
       "    }\n",
       "</style>\n",
       "<table border=\"1\" class=\"dataframe\">\n",
       "  <thead>\n",
       "    <tr style=\"text-align: right;\">\n",
       "      <th></th>\n",
       "      <th>Model</th>\n",
       "      <th>Year</th>\n",
       "      <th>Region</th>\n",
       "      <th>Color</th>\n",
       "      <th>Fuel_Type</th>\n",
       "      <th>Transmission</th>\n",
       "      <th>Engine_Size_L</th>\n",
       "      <th>Mileage_KM</th>\n",
       "      <th>Price_USD</th>\n",
       "      <th>Sales_Volume</th>\n",
       "      <th>Sales_Classification</th>\n",
       "    </tr>\n",
       "  </thead>\n",
       "  <tbody>\n",
       "  </tbody>\n",
       "</table>\n",
       "</div>"
      ],
      "text/plain": [
       "Empty DataFrame\n",
       "Columns: [Model, Year, Region, Color, Fuel_Type, Transmission, Engine_Size_L, Mileage_KM, Price_USD, Sales_Volume, Sales_Classification]\n",
       "Index: []"
      ]
     },
     "execution_count": 11,
     "metadata": {},
     "output_type": "execute_result"
    }
   ],
   "source": [
    "df[df.duplicated()] \n",
    "# no duplication"
   ]
  },
  {
   "cell_type": "code",
   "execution_count": null,
   "id": "6c20f75a",
   "metadata": {},
   "outputs": [
    {
     "data": {
      "text/plain": [
       "['Model',\n",
       " 'Year',\n",
       " 'Region',\n",
       " 'Color',\n",
       " 'Fuel_Type',\n",
       " 'Transmission',\n",
       " 'Engine_Size_L',\n",
       " 'Mileage_KM',\n",
       " 'Price_USD',\n",
       " 'Sales_Volume',\n",
       " 'Sales_Classification']"
      ]
     },
     "execution_count": 12,
     "metadata": {},
     "output_type": "execute_result"
    }
   ],
   "source": [
    "df.columns.tolist() # names of the features in the dataset"
   ]
  },
  {
   "cell_type": "code",
   "execution_count": 17,
   "id": "9a0cc192",
   "metadata": {},
   "outputs": [
    {
     "name": "stdout",
     "output_type": "stream",
     "text": [
      "==================================================\n",
      "BASIC NUMERIC COLUMNS ANALYSIS\n",
      "================================================== \n",
      "\n",
      "['Year', 'Engine_Size_L', 'Mileage_KM', 'Price_USD', 'Sales_Volume'] \n",
      "\n",
      "1. Year          : Min_value : 2010         Max_value : 2024\n",
      "2. Engine_Size_L : Min_value : 1.5          Max_value : 5.0\n",
      "3. Mileage_KM    : Min_value : 3            Max_value : 199996\n",
      "4. Price_USD     : Min_value : 30000        Max_value : 119998\n",
      "5. Sales_Volume  : Min_value : 100          Max_value : 9999\n"
     ]
    }
   ],
   "source": [
    "# basic numeric features analysis\n",
    "numeric_cols = df.select_dtypes(include=[np.number]).columns.tolist()\n",
    "print('='*50)\n",
    "print('BASIC NUMERIC COLUMNS ANALYSIS')\n",
    "print('='*50,'\\n')\n",
    "print(numeric_cols,'\\n')\n",
    "for i,col in enumerate(numeric_cols,1):\n",
    "    print(f'{i}. {col:<13} : Min_value : {df[col].min():<12} Max_value : {df[col].max()}')"
   ]
  },
  {
   "cell_type": "code",
   "execution_count": 19,
   "id": "c289dd03",
   "metadata": {},
   "outputs": [
    {
     "name": "stdout",
     "output_type": "stream",
     "text": [
      "==================================================\n",
      "BASIC CATEGORICAL COLUMNS ANALYSIS\n",
      "================================================== \n",
      "\n",
      "1. Model                : Unique features : ['5 Series' 'i8' 'X3' '7 Series' 'M5' '3 Series' 'X1' 'M3' 'X5' 'i3' 'X6']\n",
      "2. Region               : Unique features : ['Asia' 'North America' 'Middle East' 'South America' 'Europe' 'Africa']\n",
      "3. Color                : Unique features : ['Red' 'Blue' 'Black' 'Silver' 'White' 'Grey']\n",
      "4. Fuel_Type            : Unique features : ['Petrol' 'Hybrid' 'Diesel' 'Electric']\n",
      "5. Transmission         : Unique features : ['Manual' 'Automatic']\n",
      "6. Sales_Classification : Unique features : ['High' 'Low']\n"
     ]
    }
   ],
   "source": [
    "# basic categorical feature analysis\n",
    "categorical_cols = df.select_dtypes(exclude=[np.number]).columns.tolist()\n",
    "print('='*50)\n",
    "print('BASIC CATEGORICAL COLUMNS ANALYSIS')\n",
    "print('='*50,'\\n')\n",
    "for i,col in enumerate(categorical_cols,1):\n",
    "    print(f'{i}. {col:<20} : Unique features : {df[col].unique()}')"
   ]
  },
  {
   "cell_type": "code",
   "execution_count": 27,
   "id": "a3b282a9",
   "metadata": {},
   "outputs": [
    {
     "name": "stdout",
     "output_type": "stream",
     "text": [
      "1. Year......... : 0 outliers   (Range: 2001.00 - 2033.00 )\n",
      "2. Engine_Size_L : 0 outliers   (Range: -0.15 - 6.65 )\n",
      "3. Mileage_KM... : 0 outliers   (Range: -100500.38 - 301308.62 )\n",
      "4. Price_USD.... : 0 outliers   (Range: -15355.50 - 165418.50 )\n",
      "5. Sales_Volume. : 0 outliers   (Range: -4835.88 - 14961.12 )\n"
     ]
    }
   ],
   "source": [
    "# outlier detection using IQR\n",
    "def outlier_detection(df,col):\n",
    "    q1 = df[col].quantile(0.25)\n",
    "    q3 = df[col].quantile(0.75)\n",
    "    IQR = q3 - q1 # interquartile range\n",
    "\n",
    "    lower_bound = q1 - 1.5 * IQR \n",
    "    upper_bound = q3 + 1.5 * IQR\n",
    "\n",
    "    outliers = df[(df[col] < lower_bound) | (df[col] > upper_bound)]\n",
    "    return outliers, lower_bound, upper_bound\n",
    "\n",
    "for i,col in enumerate(numeric_cols,1):\n",
    "    outliers, lower_bound, upper_bound = outlier_detection(df,col)\n",
    "    print(f'{i}. {col:.<13} : {len(outliers)} outliers   (Range: {lower_bound:.2f} - {upper_bound:.2f} )')"
   ]
  },
  {
   "cell_type": "code",
   "execution_count": 30,
   "id": "0c680e86",
   "metadata": {},
   "outputs": [
    {
     "name": "stdout",
     "output_type": "stream",
     "text": [
      "1. Year          : P-value = 0.0 (Not Normal)\n",
      "2. Engine_Size_L : P-value = 0.0 (Not Normal)\n",
      "3. Mileage_KM    : P-value = 0.0 (Not Normal)\n",
      "4. Price_USD     : P-value = 0.0 (Not Normal)\n",
      "5. Sales_Volume  : P-value = 0.0 (Not Normal)\n"
     ]
    }
   ],
   "source": [
    "# data distribution analysis \n",
    "from scipy.stats import normaltest\n",
    "for i,col in enumerate(numeric_cols,1):\n",
    "    stat, p_value = normaltest(df[col])\n",
    "    is_normal = 'Normal' if p_value > 0.05 else 'Not Normal'\n",
    "    print(f'{i}. {col:<13} : P-value = {p_value} ({is_normal})')"
   ]
  },
  {
   "cell_type": "code",
   "execution_count": null,
   "id": "5706813f",
   "metadata": {},
   "outputs": [],
   "source": []
  }
 ],
 "metadata": {
  "kernelspec": {
   "display_name": "student-performance-analysis-and-predictio-iTTeuZRr-py3.11",
   "language": "python",
   "name": "python3"
  },
  "language_info": {
   "codemirror_mode": {
    "name": "ipython",
    "version": 3
   },
   "file_extension": ".py",
   "mimetype": "text/x-python",
   "name": "python",
   "nbconvert_exporter": "python",
   "pygments_lexer": "ipython3",
   "version": "3.11.9"
  }
 },
 "nbformat": 4,
 "nbformat_minor": 5
}
