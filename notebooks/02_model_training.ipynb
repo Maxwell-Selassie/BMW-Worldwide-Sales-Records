{
 "cells": [
  {
   "cell_type": "markdown",
   "id": "ef804b34",
   "metadata": {},
   "source": [
    "# ***Model Training Using Advanced Machine Learning Models***"
   ]
  },
  {
   "cell_type": "code",
   "execution_count": 1,
   "id": "4f2871d7",
   "metadata": {},
   "outputs": [],
   "source": [
    "import os\n",
    "import pandas as pd\n",
    "import numpy as np\n",
    "from sklearn.model_selection import train_test_split,KFold,cross_val_score,GridSearchCV\n",
    "from sklearn.linear_model import LinearRegression, Lasso, Ridge\n",
    "from sklearn.preprocessing import OneHotEncoder,PolynomialFeatures, StandardScaler\n",
    "from sklearn.pipeline import Pipeline\n",
    "from sklearn.compose import ColumnTransformer\n",
    "from sklearn.tree import DecisionTreeRegressor\n",
    "from sklearn.ensemble import RandomForestRegressor\n",
    "from xgboost import XGBRegressor\n",
    "import json\n",
    "import joblib"
   ]
  },
  {
   "cell_type": "code",
   "execution_count": 2,
   "id": "acec68ed",
   "metadata": {},
   "outputs": [],
   "source": [
    "# load preprocessed data set\n",
    "if os.path.exists('../data/preprocessed_BMW_sales_data.csv'):\n",
    "    df = pd.read_csv('../data/preprocessed_BMW_sales_data.csv')\n",
    "else:\n",
    "    raise FileNotFoundError('File Not Found! Please check file path and try again!')"
   ]
  },
  {
   "cell_type": "code",
   "execution_count": 3,
   "id": "c81f0690",
   "metadata": {},
   "outputs": [],
   "source": [
    "# target output\n",
    "y = np.log1p(df['Price_USD'])\n",
    "\n",
    "#input features\n",
    "x = df.drop(columns='Price_USD').copy()"
   ]
  },
  {
   "cell_type": "markdown",
   "id": "814eb0ea",
   "metadata": {},
   "source": [
    "🎢 ***`Baseline Models`***"
   ]
  },
  {
   "cell_type": "code",
   "execution_count": 4,
   "id": "65c463f4",
   "metadata": {},
   "outputs": [],
   "source": [
    "# split data into training and test set\n",
    "x_train, x_test, y_train, y_test = train_test_split(\n",
    "    x, y, test_size= 0.3\n",
    ")\n",
    "x_train.to_csv('../data/x_train.csv',index=False)\n",
    "x_test.to_csv('../data/x_test.csv',index=False)\n",
    "np.expm1(y_train).to_csv('../data/y_train.csv', index= False)\n",
    "np.expm1(y_test).to_csv('../data/y_test.csv', index=False)"
   ]
  },
  {
   "cell_type": "code",
   "execution_count": 5,
   "id": "7f3b2289",
   "metadata": {},
   "outputs": [],
   "source": [
    "numeric_cols = x_train.select_dtypes(include='number').columns\n",
    "categorical_cols = x_train.select_dtypes(include='object').columns\n",
    "\n",
    "# preprocess data\n",
    "preprocessor = ColumnTransformer(transformers=[\n",
    "    ('scaler',StandardScaler(),numeric_cols),\n",
    "    ('onehot',OneHotEncoder(handle_unknown='ignore'),categorical_cols)\n",
    "],verbose_feature_names_out=False)\n",
    "\n",
    "# cross-validation\n",
    "cv = KFold(n_splits=5, shuffle=True, random_state=42)"
   ]
  },
  {
   "cell_type": "code",
   "execution_count": 6,
   "id": "b4bf3dbf",
   "metadata": {},
   "outputs": [
    {
     "name": "stdout",
     "output_type": "stream",
     "text": [
      "Training linear_regression. This May Take A While ...\n"
     ]
    },
    {
     "name": "stderr",
     "output_type": "stream",
     "text": [
      "[Parallel(n_jobs=-1)]: Using backend LokyBackend with 8 concurrent workers.\n",
      "[Parallel(n_jobs=-1)]: Done   2 out of   5 | elapsed:    9.7s remaining:   14.6s\n",
      "[Parallel(n_jobs=-1)]: Done   5 out of   5 | elapsed:    9.8s finished\n",
      "[Parallel(n_jobs=-1)]: Using backend LokyBackend with 8 concurrent workers.\n"
     ]
    },
    {
     "name": "stdout",
     "output_type": "stream",
     "text": [
      "--------------------------------------------------\n",
      "Training ridge. This May Take A While ...\n"
     ]
    },
    {
     "name": "stderr",
     "output_type": "stream",
     "text": [
      "[Parallel(n_jobs=-1)]: Done   2 out of   5 | elapsed:    0.3s remaining:    0.5s\n",
      "[Parallel(n_jobs=-1)]: Done   5 out of   5 | elapsed:    4.5s finished\n",
      "[Parallel(n_jobs=-1)]: Using backend LokyBackend with 8 concurrent workers.\n"
     ]
    },
    {
     "name": "stdout",
     "output_type": "stream",
     "text": [
      "--------------------------------------------------\n",
      "Training lasso. This May Take A While ...\n"
     ]
    },
    {
     "name": "stderr",
     "output_type": "stream",
     "text": [
      "[Parallel(n_jobs=-1)]: Done   2 out of   5 | elapsed:    0.2s remaining:    0.4s\n",
      "[Parallel(n_jobs=-1)]: Done   5 out of   5 | elapsed:    0.3s finished\n",
      "[Parallel(n_jobs=-1)]: Using backend LokyBackend with 8 concurrent workers.\n"
     ]
    },
    {
     "name": "stdout",
     "output_type": "stream",
     "text": [
      "--------------------------------------------------\n",
      "Training decision_tree. This May Take A While ...\n"
     ]
    },
    {
     "name": "stderr",
     "output_type": "stream",
     "text": [
      "[Parallel(n_jobs=-1)]: Done   2 out of   5 | elapsed:   12.0s remaining:   18.0s\n",
      "[Parallel(n_jobs=-1)]: Done   5 out of   5 | elapsed:   12.5s finished\n",
      "[Parallel(n_jobs=-1)]: Using backend LokyBackend with 8 concurrent workers.\n"
     ]
    },
    {
     "name": "stdout",
     "output_type": "stream",
     "text": [
      "--------------------------------------------------\n",
      "Training random_forest. This May Take A While ...\n"
     ]
    },
    {
     "name": "stderr",
     "output_type": "stream",
     "text": [
      "[Parallel(n_jobs=-1)]: Done   2 out of   5 | elapsed: 18.7min remaining: 28.0min\n",
      "[Parallel(n_jobs=-1)]: Done   5 out of   5 | elapsed: 18.8min finished\n",
      "[Parallel(n_jobs=-1)]: Using backend LokyBackend with 8 concurrent workers.\n"
     ]
    },
    {
     "name": "stdout",
     "output_type": "stream",
     "text": [
      "--------------------------------------------------\n",
      "Training xgboost. This May Take A While ...\n",
      "--------------------------------------------------\n",
      "Model: linear_regression\n",
      "RMSE scores across folds: [0.3836163  0.38233811 0.38135026 0.38298339 0.38033372]\n",
      "Mean RMSE: 0.38\n",
      "Std RMSE: 0.00\n",
      "--------------------------------------------------\n",
      "Model: ridge\n",
      "RMSE scores across folds: [0.38361618 0.38233801 0.3813502  0.38298332 0.38033363]\n",
      "Mean RMSE: 0.38\n",
      "Std RMSE: 0.00\n",
      "--------------------------------------------------\n",
      "Model: lasso\n",
      "RMSE scores across folds: [0.38333273 0.38214277 0.38131874 0.38275934 0.38026021]\n",
      "Mean RMSE: 0.38\n",
      "Std RMSE: 0.00\n",
      "--------------------------------------------------\n",
      "Model: decision_tree\n",
      "RMSE scores across folds: [0.54720111 0.5399726  0.54257667 0.55567281 0.55082695]\n",
      "Mean RMSE: 0.55\n",
      "Std RMSE: 0.01\n",
      "--------------------------------------------------\n",
      "Model: random_forest\n",
      "RMSE scores across folds: [0.38977621 0.38784368 0.38679242 0.38858635 0.38565077]\n",
      "Mean RMSE: 0.39\n",
      "Std RMSE: 0.00\n",
      "--------------------------------------------------\n",
      "Model: xgboost\n",
      "RMSE scores across folds: [0.39862673 0.39660034 0.39192655 0.39628918 0.39316585]\n",
      "Mean RMSE: 0.40\n",
      "Std RMSE: 0.00\n",
      "--------------------------------------------------\n"
     ]
    },
    {
     "name": "stderr",
     "output_type": "stream",
     "text": [
      "[Parallel(n_jobs=-1)]: Done   2 out of   5 | elapsed:    1.9s remaining:    2.9s\n",
      "[Parallel(n_jobs=-1)]: Done   5 out of   5 | elapsed:    2.0s finished\n"
     ]
    }
   ],
   "source": [
    "\n",
    "# baseline models\n",
    "names_model = {\n",
    "    'linear_regression' : LinearRegression(),\n",
    "    'ridge' : Ridge(random_state=42),\n",
    "    'lasso' : Lasso(random_state=42),\n",
    "    'decision_tree' : DecisionTreeRegressor(random_state=42),\n",
    "    'random_forest' : RandomForestRegressor(random_state=42),\n",
    "    'xgboost' : XGBRegressor(random_state=42)\n",
    "}\n",
    "\n",
    "results = {}\n",
    "for names, models in names_model.items():\n",
    "    print(f'Training {names}. This May Take A While ...')\n",
    "    pipe = Pipeline(steps=[\n",
    "        ('preprocessor',preprocessor),\n",
    "        ('model',models)\n",
    "    ])\n",
    "\n",
    "    # model training\n",
    "    scores = cross_val_score(pipe,x_train,y_train,cv=cv,\n",
    "                            scoring='neg_mean_squared_error',n_jobs=-1,verbose=2)\n",
    "\n",
    "    # store results\n",
    "    rmse = np.sqrt(-scores)\n",
    "    results[names] = {\n",
    "        'RMSE scores across fold' : rmse,\n",
    "        'Mean RMSE score' : np.mean(rmse),\n",
    "        'Std RMSE score' : np.std(rmse)\n",
    "    }\n",
    "\n",
    "    # with open('../models/baseline_results.json','w') as file:\n",
    "    #     json.dump(results,file,indent=4)\n",
    "\n",
    "    print('-'*50)\n",
    "# print out results\n",
    "for name, result in results.items():\n",
    "        print(f\"Model: {name}\")\n",
    "        print(f\"RMSE scores across folds: {result['RMSE scores across fold']}\")\n",
    "        print(f\"Mean RMSE: {result['Mean RMSE score']:.2f}\")\n",
    "        print(f\"Std RMSE: {result['Std RMSE score']:.2f}\")\n",
    "        print('-'*50)\n"
   ]
  },
  {
   "cell_type": "markdown",
   "id": "aaf39960",
   "metadata": {},
   "source": [
    "***`Hyper-parameter Tuning and ensemble methods`***"
   ]
  },
  {
   "cell_type": "code",
   "execution_count": 7,
   "id": "4333e98e",
   "metadata": {},
   "outputs": [
    {
     "name": "stdout",
     "output_type": "stream",
     "text": [
      "Training Model ... Ridge\n",
      "--------------------------------------------------\n",
      "Training Model ... Lasso\n",
      "--------------------------------------------------\n",
      "Training Model ... Random Forest\n",
      "--------------------------------------------------\n",
      "Training Model ... XGBRegressor\n",
      "--------------------------------------------------\n",
      "Model :  Ridge\n",
      "Best Score :  -0.14602032047103355\n",
      "Best Parameters :  {'model__alpha': 1, 'model__max_iter': 1000}\n",
      "Model :  Lasso\n",
      "Best Score :  -0.14589671903500806\n",
      "Best Parameters :  {'model__alpha': 0.1, 'model__max_iter': 1000}\n",
      "Model :  Random Forest\n",
      "Best Score :  -0.14592855371351746\n",
      "Best Parameters :  {'model__max_depth': 2, 'model__min_samples_leaf': 3, 'model__min_samples_split': 2, 'model__n_estimators': 100}\n",
      "Model :  XGBRegressor\n",
      "Best Score :  -0.14613778508159153\n",
      "Best Parameters :  {'model__learning_rate': 0.1, 'model__max_depth': 2, 'model__n_estimators': 100, 'model__reg_alpha': 0.1}\n"
     ]
    }
   ],
   "source": [
    "models_and_params = {\n",
    "    'Ridge' : {\n",
    "        'model' : Ridge(random_state=42),\n",
    "        'params' : {\n",
    "            'model__max_iter' : [1000,2000],\n",
    "            'model__alpha' : [0.1,0.5,1]\n",
    "        }\n",
    "    },\n",
    "    'Lasso' : {\n",
    "        'model' : Lasso(random_state=42),\n",
    "        'params' : {\n",
    "            'model__max_iter' : [1000,200],\n",
    "            'model__alpha' : [0.1,0.5,1]\n",
    "        }\n",
    "    },\n",
    "    'Random Forest' : {\n",
    "        'model' : RandomForestRegressor(random_state=42),\n",
    "        'params' : {\n",
    "            'model__n_estimators' : [100,120],\n",
    "            'model__max_depth' : [2,4,None],\n",
    "            'model__min_samples_split' : [2,4],\n",
    "            'model__min_samples_leaf' : [3,5]\n",
    "        }\n",
    "    },\n",
    "    'XGBRegressor' : {\n",
    "        'model' : XGBRegressor(objective='reg:squarederror',random_state = 42),\n",
    "        'params' : {\n",
    "            'model__n_estimators' : [100,120],\n",
    "            'model__max_depth' : [2,4,6],\n",
    "            'model__learning_rate' : [0.1,0.5],\n",
    "            'model__reg_alpha' : [0.1,0.5] \n",
    "        }\n",
    "    }\n",
    "}\n",
    "\n",
    "model_name = None\n",
    "model_estimator = None\n",
    "model_best_score = -float('inf')\n",
    "\n",
    "results = {}\n",
    "for name,models in models_and_params.items():\n",
    "    print('Training Model ...',name)\n",
    "    pipe = Pipeline(steps=[\n",
    "        ('preprocessor',preprocessor),\n",
    "        ('model',models['model'])\n",
    "    ])\n",
    "\n",
    "    gs = GridSearchCV(\n",
    "        estimator=pipe,\n",
    "        param_grid=models['params'],\n",
    "        cv = cv,\n",
    "        refit=True,\n",
    "        n_jobs=-1,\n",
    "        scoring='neg_mean_squared_error'\n",
    "    )\n",
    "\n",
    "    # model training\n",
    "    gs.fit(x_train,y_train)\n",
    "\n",
    "    results[name] = {\n",
    "        'Best Score' : gs.best_score_,\n",
    "        'Best params' : gs.best_params_\n",
    "    }\n",
    "\n",
    "    if gs.best_score_ > model_best_score:\n",
    "        model_best_score = gs.best_score_\n",
    "        model_name = name\n",
    "        model_estimator = gs.best_estimator_\n",
    "\n",
    "    joblib.dump(model_estimator,f'../models/{name}_best_estimator.pkl')\n",
    "\n",
    "    with open('model_result.json','w') as file:\n",
    "        json.dump(results,file,indent=4)\n",
    "\n",
    "    print('-'*50)\n",
    "\n",
    "for name, result in results.items():\n",
    "    print('Model : ',name)\n",
    "    print('Best Score : ',result['Best Score'])\n",
    "    print('Best Parameters : ',result['Best params'])"
   ]
  }
 ],
 "metadata": {
  "kernelspec": {
   "display_name": "bmw-sales-data-iTTeuZRr-py3.11",
   "language": "python",
   "name": "python3"
  },
  "language_info": {
   "codemirror_mode": {
    "name": "ipython",
    "version": 3
   },
   "file_extension": ".py",
   "mimetype": "text/x-python",
   "name": "python",
   "nbconvert_exporter": "python",
   "pygments_lexer": "ipython3",
   "version": "3.11.9"
  }
 },
 "nbformat": 4,
 "nbformat_minor": 5
}
