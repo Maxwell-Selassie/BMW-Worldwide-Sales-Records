{
 "cells": [
  {
   "cell_type": "markdown",
   "id": "ef804b34",
   "metadata": {},
   "source": [
    "# ***Model Training Using Advanced Machine Learning Models***"
   ]
  },
  {
   "cell_type": "code",
   "execution_count": null,
   "id": "4f2871d7",
   "metadata": {},
   "outputs": [],
   "source": [
    "import os\n",
    "import pandas as pd\n",
    "from sklearn.model_selection import train_test_split,KFold,cross_val_score\n",
    "from sklearn.linear_model import LinearRegression, Lasso, Ridge\n",
    "from sklearn.preprocessing import OneHotEncoder,PolynomialFeatures, StandardScaler\n",
    "from sklearn.pipeline import Pipeline\n",
    "from sklearn.compose import ColumnTransformer\n",
    "from sklearn.tree import DecisionTreeRegressor\n",
    "from sklearn.ensemble import RandomForestRegressor\n",
    "from xgboost import XGBRegressor"
   ]
  },
  {
   "cell_type": "code",
   "execution_count": 2,
   "id": "acec68ed",
   "metadata": {},
   "outputs": [],
   "source": [
    "# load preprocessed data set\n",
    "if os.path.exists('../data/preprocessed_BMW_sales_data.csv'):\n",
    "    df = pd.read_csv('../data/preprocessed_BMW_sales_data.csv')\n",
    "else:\n",
    "    raise FileNotFoundError('File Not Found! Please check file path and try again!')"
   ]
  },
  {
   "cell_type": "code",
   "execution_count": null,
   "id": "c81f0690",
   "metadata": {},
   "outputs": [],
   "source": [
    "# target output\n",
    "y = df['Price_USD']\n",
    "\n",
    "#input features\n",
    "x = df.drop(columns='Price_USD').copy()"
   ]
  },
  {
   "cell_type": "markdown",
   "id": "814eb0ea",
   "metadata": {},
   "source": [
    "***`Baseline Models`***"
   ]
  },
  {
   "cell_type": "code",
   "execution_count": null,
   "id": "65c463f4",
   "metadata": {},
   "outputs": [],
   "source": [
    "# split data into training and test set\n",
    "x_train, y_train, x_test, y_test = train_test_split(\n",
    "    x, y, test_size= 0.3\n",
    ")\n",
    "\n",
    "numeric_cols = x_train.select_dtypes(include='number').columns\n",
    "categorical_cols = x_train.select_dtypes(include='object').columns\n",
    "\n",
    "# preprocess data\n",
    "preprocessor = ColumnTransformer(transformers=[\n",
    "    ('scaler',StandardScaler(),numeric_cols),\n",
    "    ('onehot',OneHotEncoder(handle_unknown='ignore'),categorical_cols)\n",
    "])\n",
    "\n",
    "names_model = {\n",
    "    'linear_regression' : LinearRegression(),\n",
    "}"
   ]
  }
 ],
 "metadata": {
  "kernelspec": {
   "display_name": "bmw-sales-data-iTTeuZRr-py3.11",
   "language": "python",
   "name": "python3"
  },
  "language_info": {
   "codemirror_mode": {
    "name": "ipython",
    "version": 3
   },
   "file_extension": ".py",
   "mimetype": "text/x-python",
   "name": "python",
   "nbconvert_exporter": "python",
   "pygments_lexer": "ipython3",
   "version": "3.11.9"
  }
 },
 "nbformat": 4,
 "nbformat_minor": 5
}
