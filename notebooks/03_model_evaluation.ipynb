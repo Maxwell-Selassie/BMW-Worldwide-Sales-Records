{
 "cells": [
  {
   "cell_type": "markdown",
   "id": "58b31ce0",
   "metadata": {},
   "source": [
    "# ***Feature Importance and Model Interpretation***"
   ]
  },
  {
   "cell_type": "code",
   "execution_count": 1,
   "id": "10025626",
   "metadata": {},
   "outputs": [],
   "source": [
    "# import libraries\n",
    "import pandas as pd\n",
    "import numpy as np\n",
    "from sklearn.metrics import root_mean_squared_error,mean_absolute_error,r2_score\n",
    "from sklearn.model_selection import learning_curve,LearningCurveDisplay\n",
    "import joblib"
   ]
  },
  {
   "cell_type": "code",
   "execution_count": 2,
   "id": "573e80b1",
   "metadata": {},
   "outputs": [],
   "source": [
    "# load relevant dataset files\n",
    "try:\n",
    "    x_train = pd.read_csv('../data/x_train.csv')\n",
    "    y_train = pd.read_csv('../data/y_train.csv')\n",
    "    x_test = pd.read_csv('../data/x_test.csv')\n",
    "    y_test = pd.read_csv('../data/y_test.csv')\n",
    "except (FileNotFoundError,FileExistsError):\n",
    "    print('File Not Found! Please check filepath and try again!')"
   ]
  },
  {
   "cell_type": "code",
   "execution_count": 3,
   "id": "02971bad",
   "metadata": {},
   "outputs": [],
   "source": [
    "# load models\n",
    "try:\n",
    "    xgb_model = joblib.load('../models/XGBRegressor_best_estimator.pkl')\n",
    "    ridge_model = joblib.load('../models/Ridge_best_estimator.pkl')\n",
    "    rf_model = joblib.load('../models/Random Forest_best_estimator.pkl')\n",
    "    lasso_model = joblib.load('../models/Lasso_best_estimator.pkl')\n",
    "except (FileNotFoundError,FileExistsError):\n",
    "    print('File Not Found! Please check filepath and try again!')"
   ]
  },
  {
   "cell_type": "markdown",
   "id": "80531bee",
   "metadata": {},
   "source": [
    "*`metrics comparison`*"
   ]
  },
  {
   "cell_type": "code",
   "execution_count": 4,
   "id": "870e4d0d",
   "metadata": {},
   "outputs": [],
   "source": [
    "model_name = {\n",
    "    'XGBRegressor' : xgb_model,\n",
    "    'Ridge' : ridge_model,\n",
    "    'Random Forest' : rf_model,\n",
    "    'Lasso' : lasso_model\n",
    "}"
   ]
  },
  {
   "cell_type": "code",
   "execution_count": null,
   "id": "f6d019a9",
   "metadata": {},
   "outputs": [
    {
     "name": "stdout",
     "output_type": "stream",
     "text": [
      "Model:  XGBRegressor\n",
      "RMSE score :  26178.901201595527\n",
      "MAE :  22714.630653780452\n",
      "--------------------------------------------------\n",
      "Model:  Ridge\n",
      "RMSE score :  26190.39899756175\n",
      "MAE :  22719.430613513527\n",
      "--------------------------------------------------\n",
      "Model:  Random Forest\n",
      "RMSE score :  26178.901201595527\n",
      "MAE :  22714.630653780452\n",
      "--------------------------------------------------\n",
      "Model:  Lasso\n",
      "RMSE score :  26190.022151553447\n",
      "MAE :  22719.249403516613\n",
      "--------------------------------------------------\n"
     ]
    }
   ],
   "source": [
    "def metrics_comparison(model,x_test):\n",
    "    y_pred = model.predict(x_test)\n",
    "    return y_pred\n",
    "\n",
    "for name,model in model_name.items():\n",
    "    y_pred = metrics_comparison(model,x_test)\n",
    "    print('Model: ',name)\n",
    "    print(f'RMSE score : ',root_mean_squared_error(y_test,y_pred))\n",
    "    print(f'MAE : ',mean_absolute_error(y_pred,y_test))\n",
    "    print('-'*50)"
   ]
  },
  {
   "cell_type": "markdown",
   "id": "e25b4a18",
   "metadata": {},
   "source": [
    "# ***Model Performance Evaluation***"
   ]
  },
  {
   "cell_type": "code",
   "execution_count": null,
   "id": "31f49511",
   "metadata": {},
   "outputs": [],
   "source": []
  }
 ],
 "metadata": {
  "kernelspec": {
   "display_name": "bmw-sales-data-iTTeuZRr-py3.11",
   "language": "python",
   "name": "python3"
  },
  "language_info": {
   "codemirror_mode": {
    "name": "ipython",
    "version": 3
   },
   "file_extension": ".py",
   "mimetype": "text/x-python",
   "name": "python",
   "nbconvert_exporter": "python",
   "pygments_lexer": "ipython3",
   "version": "3.11.9"
  }
 },
 "nbformat": 4,
 "nbformat_minor": 5
}
