{
 "cells": [
  {
   "cell_type": "markdown",
   "id": "58b31ce0",
   "metadata": {},
   "source": [
    "# ***Model Evaluation***"
   ]
  },
  {
   "cell_type": "code",
   "execution_count": null,
   "id": "10025626",
   "metadata": {},
   "outputs": [],
   "source": [
    "# import libraries\n",
    "import pandas as pd\n",
    "import numpy as np\n",
    "from sklearn.metrics import root_mean_squared_error,mean_absolute_error,r2_score\n",
    "import joblib"
   ]
  },
  {
   "cell_type": "code",
   "execution_count": 3,
   "id": "573e80b1",
   "metadata": {},
   "outputs": [],
   "source": [
    "# load relevant dataset files\n",
    "try:\n",
    "    x_train = pd.read_csv('../data/x_train.csv')\n",
    "    y_train = pd.read_csv('../data/y_train.csv')\n",
    "    x_test = pd.read_csv('../data/x_test.csv')\n",
    "    y_test = pd.read_csv('../data/y_test.csv')\n",
    "except (FileNotFoundError,FileExistsError):\n",
    "    print('File Not Found! Please check filepath and try again!')\n"
   ]
  },
  {
   "cell_type": "code",
   "execution_count": 4,
   "id": "e93982fc",
   "metadata": {},
   "outputs": [],
   "source": [
    "# load models\n",
    "try:\n",
    "    lasso_model = joblib.load('../models/Lasso_best_estimator.pkl')\n",
    "    ridge_model = joblib.load('../models/Ridge_best_estimator.pkl')\n",
    "    rf_model = joblib.load('../models/Random Forest_best_estimator.pkl')\n",
    "    xgb_model = joblib.load('../models/XGBRegressor_best_estimator.pkl')\n",
    "except (FileNotFoundError,FileExistsError):\n",
    "    print('File Not Found! Please check filepath and try again!')\n"
   ]
  },
  {
   "cell_type": "code",
   "execution_count": 5,
   "id": "31f49511",
   "metadata": {},
   "outputs": [],
   "source": [
    "model_name = {\n",
    "    'xgbregressor':  xgb_model,\n",
    "    'lasso' : lasso_model,\n",
    "    'ridge' : ridge_model,\n",
    "    'random_forest' : rf_model\n",
    "}"
   ]
  },
  {
   "cell_type": "code",
   "execution_count": 7,
   "id": "f82be0a1",
   "metadata": {},
   "outputs": [
    {
     "name": "stdout",
     "output_type": "stream",
     "text": [
      "Model :  xgbregressor\n",
      "RMSE : 0.38\n",
      "MAE : 0.32\n",
      "R^2_score : <function r2_score at 0x000002AE21A0C680>\n",
      "--------------------------------------------------\n",
      "Model :  lasso\n",
      "RMSE : 0.38\n",
      "MAE : 0.32\n",
      "R^2_score : <function r2_score at 0x000002AE21A0C680>\n",
      "--------------------------------------------------\n",
      "Model :  ridge\n",
      "RMSE : 0.38\n",
      "MAE : 0.32\n",
      "R^2_score : <function r2_score at 0x000002AE21A0C680>\n",
      "--------------------------------------------------\n",
      "Model :  random_forest\n",
      "RMSE : 0.38\n",
      "MAE : 0.32\n",
      "R^2_score : <function r2_score at 0x000002AE21A0C680>\n",
      "--------------------------------------------------\n"
     ]
    },
    {
     "data": {
      "application/vnd.microsoft.datawrangler.viewer.v0+json": {
       "columns": [
        {
         "name": "index",
         "rawType": "object",
         "type": "string"
        },
        {
         "name": "RMSE",
         "rawType": "float64",
         "type": "float"
        },
        {
         "name": "MAE",
         "rawType": "float64",
         "type": "float"
        },
        {
         "name": "R^2",
         "rawType": "float64",
         "type": "float"
        }
       ],
       "ref": "697ad790-be0e-458b-9ec5-7be90606b72f",
       "rows": [
        [
         "xgbregressor",
         "0.38142344601910383",
         "0.3239871187592296",
         "-6.000721357590777e-07"
        ],
        [
         "lasso",
         "0.38142344601910383",
         "0.3239871187592296",
         "-6.000721357590777e-07"
        ],
        [
         "ridge",
         "0.38134029889557663",
         "0.3240137557481075",
         "0.0004353359543182167"
        ],
        [
         "random_forest",
         "0.38142344601910383",
         "0.3239871187592296",
         "-6.000721357590777e-07"
        ]
       ],
       "shape": {
        "columns": 3,
        "rows": 4
       }
      },
      "text/html": [
       "<div>\n",
       "<style scoped>\n",
       "    .dataframe tbody tr th:only-of-type {\n",
       "        vertical-align: middle;\n",
       "    }\n",
       "\n",
       "    .dataframe tbody tr th {\n",
       "        vertical-align: top;\n",
       "    }\n",
       "\n",
       "    .dataframe thead th {\n",
       "        text-align: right;\n",
       "    }\n",
       "</style>\n",
       "<table border=\"1\" class=\"dataframe\">\n",
       "  <thead>\n",
       "    <tr style=\"text-align: right;\">\n",
       "      <th></th>\n",
       "      <th>RMSE</th>\n",
       "      <th>MAE</th>\n",
       "      <th>R^2</th>\n",
       "    </tr>\n",
       "  </thead>\n",
       "  <tbody>\n",
       "    <tr>\n",
       "      <th>xgbregressor</th>\n",
       "      <td>0.381423</td>\n",
       "      <td>0.323987</td>\n",
       "      <td>-6.000721e-07</td>\n",
       "    </tr>\n",
       "    <tr>\n",
       "      <th>lasso</th>\n",
       "      <td>0.381423</td>\n",
       "      <td>0.323987</td>\n",
       "      <td>-6.000721e-07</td>\n",
       "    </tr>\n",
       "    <tr>\n",
       "      <th>ridge</th>\n",
       "      <td>0.381340</td>\n",
       "      <td>0.324014</td>\n",
       "      <td>4.353360e-04</td>\n",
       "    </tr>\n",
       "    <tr>\n",
       "      <th>random_forest</th>\n",
       "      <td>0.381423</td>\n",
       "      <td>0.323987</td>\n",
       "      <td>-6.000721e-07</td>\n",
       "    </tr>\n",
       "  </tbody>\n",
       "</table>\n",
       "</div>"
      ],
      "text/plain": [
       "                   RMSE       MAE           R^2\n",
       "xgbregressor   0.381423  0.323987 -6.000721e-07\n",
       "lasso          0.381423  0.323987 -6.000721e-07\n",
       "ridge          0.381340  0.324014  4.353360e-04\n",
       "random_forest  0.381423  0.323987 -6.000721e-07"
      ]
     },
     "execution_count": 7,
     "metadata": {},
     "output_type": "execute_result"
    }
   ],
   "source": [
    "metric_results = {}\n",
    "for name, model in model_name.items():\n",
    "    y_pred = model.predict(x_test)\n",
    "\n",
    "    rmse = root_mean_squared_error(y_test,y_pred)\n",
    "    mae = mean_absolute_error(y_test,y_pred)\n",
    "    R2_score = r2_score(y_test,y_pred)\n",
    "\n",
    "    print('Model : ',name)\n",
    "    print(f'RMSE : {rmse:.2f}')\n",
    "    print(f'MAE : {mae:.2f}')\n",
    "    print(f'R^2_score : {r2_score}')\n",
    "    print('-'*50)\n",
    "\n",
    "    metric_results[name] = {\n",
    "        'RMSE' : rmse,\n",
    "        'MAE' : mae,\n",
    "        'R^2' : R2_score\n",
    "    }\n",
    "pd.DataFrame(metric_results).T"
   ]
  }
 ],
 "metadata": {
  "kernelspec": {
   "display_name": "bmw-sales-data-iTTeuZRr-py3.11",
   "language": "python",
   "name": "python3"
  },
  "language_info": {
   "codemirror_mode": {
    "name": "ipython",
    "version": 3
   },
   "file_extension": ".py",
   "mimetype": "text/x-python",
   "name": "python",
   "nbconvert_exporter": "python",
   "pygments_lexer": "ipython3",
   "version": "3.11.9"
  }
 },
 "nbformat": 4,
 "nbformat_minor": 5
}
